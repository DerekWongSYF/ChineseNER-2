{
 "cells": [
  {
   "cell_type": "code",
   "execution_count": 1,
   "metadata": {
    "ExecuteTime": {
     "end_time": "2019-05-14T07:59:51.907031Z",
     "start_time": "2019-05-14T07:59:45.213457Z"
    }
   },
   "outputs": [],
   "source": [
    "import codecs\n",
    "import pandas as pd\n",
    "import numpy as np\n",
    "import re\n",
    "import collections\n",
    "import sklearn"
   ]
  },
  {
   "cell_type": "code",
   "execution_count": 2,
   "metadata": {
    "ExecuteTime": {
     "end_time": "2019-05-14T07:59:51.945433Z",
     "start_time": "2019-05-14T07:59:51.930349Z"
    },
    "code_folding": []
   },
   "outputs": [
    {
     "name": "stdout",
     "output_type": "stream",
     "text": [
      "['junk', 'nested stuff']\n"
     ]
    }
   ],
   "source": [
    "def flatten(x): # 展平\n",
    "    result = []\n",
    "    for el in x:\n",
    "        if isinstance(x, collections.Iterable) and not isinstance(el, str):\n",
    "            result.extend(flatten(el))\n",
    "        else:\n",
    "            result.append(el)\n",
    "    return result\n",
    "\n",
    "\n",
    "print(flatten([\"junk\", [\"nested stuff\"], [], [[]]]))"
   ]
  },
  {
   "cell_type": "code",
   "execution_count": 3,
   "metadata": {
    "ExecuteTime": {
     "end_time": "2019-05-14T07:59:51.986124Z",
     "start_time": "2019-05-14T07:59:51.969608Z"
    }
   },
   "outputs": [],
   "source": [
    "def origin2tag():\n",
    "    input_data = codecs.open('./origindata.txt', 'r', 'utf-8')\n",
    "    output_data = codecs.open('./wordtag.txt', 'w', 'utf-8')\n",
    "    for line in input_data.readlines():\n",
    "        line = line.strip()\n",
    "        i = 0\n",
    "        while i < len(line):\n",
    "            if line[i] == '{':\n",
    "                i += 2\n",
    "                temp = \"\"\n",
    "                while line[i] != '}':\n",
    "                    temp += line[i]\n",
    "                    i += 1\n",
    "                i += 2\n",
    "                word = temp.split(':')\n",
    "                sen = word[1]\n",
    "                output_data.write(sen[0]+\"/B_\"+word[0]+\" \")\n",
    "                for j in sen[1:len(sen)-1]:\n",
    "                    output_data.write(j+\"/M_\"+word[0]+\" \")\n",
    "                output_data.write(sen[-1]+\"/E_\"+word[0]+\" \")\n",
    "            else:\n",
    "                output_data.write(line[i]+\"/O \")\n",
    "                i += 1\n",
    "        output_data.write('\\n')\n",
    "    input_data.close()\n",
    "    output_data.close()"
   ]
  },
  {
   "cell_type": "code",
   "execution_count": 4,
   "metadata": {
    "ExecuteTime": {
     "end_time": "2019-05-14T07:59:52.058890Z",
     "start_time": "2019-05-14T07:59:52.042894Z"
    }
   },
   "outputs": [],
   "source": [
    "def tagsplit():\n",
    "    with open('./wordtag.txt', 'rb') as inp:\n",
    "        texts = inp.read().decode('utf-8')\n",
    "    sentences = re.split('[，。！？、‘’“”（）]/[O]', texts)\n",
    "    output_data = codecs.open('./wordtagsplit.txt', 'w', 'utf-8')\n",
    "    for sentence in sentences:\n",
    "        if sentence != \" \":\n",
    "            output_data.write(sentence.strip()+'\\n')\n",
    "    output_data.close()"
   ]
  },
  {
   "cell_type": "code",
   "execution_count": 8,
   "metadata": {
    "ExecuteTime": {
     "end_time": "2019-05-14T09:12:14.077577Z",
     "start_time": "2019-05-14T09:12:14.033636Z"
    }
   },
   "outputs": [],
   "source": [
    "def data2pkl():\n",
    "    datas = list() # 字列表\n",
    "    labels = list() # 字所对应的标签列表\n",
    "    linedata = list() # 每句话的字列表\n",
    "    linelabel = list() # 每句话的字所对应的标签列表\n",
    "    tags = set() # 标签词典（所有出现过的标签）\n",
    "\n",
    "    input_data = codecs.open('./wordtagsplit.txt', 'r', 'utf-8')\n",
    "    for line in input_data.readlines():\n",
    "        line = line.split()\n",
    "        linedata = []\n",
    "        linelabel = []\n",
    "        numNotO = 0\n",
    "        for word in line:\n",
    "            word = word.split('/')\n",
    "            linedata.append(word[0])\n",
    "            linelabel.append(word[1])\n",
    "            tags.add(word[1])\n",
    "            if word[1] != 'O':\n",
    "                numNotO += 1\n",
    "        if numNotO != 0:\n",
    "            datas.append(linedata)\n",
    "            labels.append(linelabel)\n",
    "\n",
    "    input_data.close()\n",
    "    print(len(datas), tags)\n",
    "    print(len(labels))\n",
    "    all_words = flatten(datas)\n",
    "    sr_allwords = pd.Series(all_words)  # 每个汉字出现的排序\n",
    "    sr_allwords = sr_allwords.value_counts()  # 统计每个字出现的频次\n",
    "    # print(sr_allwords)\n",
    "    set_words = sr_allwords.index\n",
    "    set_ids = range(1, len(set_words)+1)\n",
    "\n",
    "    tags = [i for i in tags]\n",
    "    tag_ids = range(len(tags)) # 标签的id\n",
    "    word2id = pd.Series(set_ids, index=set_words) # word2id词典\n",
    "    id2word = pd.Series(set_words, index=set_ids)\n",
    "    tag2id = pd.Series(tag_ids, index=tags)\n",
    "    id2tag = pd.Series(tags, index=tag_ids)\n",
    "\n",
    "    word2id[\"unknow\"] = len(word2id)+1\n",
    "    # print(word2id)\n",
    "    max_len = 60 # 设置一句话的最大长度\n",
    "\n",
    "    def X_padding(words): # 将一句话用词向量表示\n",
    "        ids = list(word2id[words])\n",
    "        if len(ids) >= max_len:\n",
    "            return ids[:max_len]\n",
    "        ids.extend([0]*(max_len-len(ids)))\n",
    "        return ids\n",
    "\n",
    "    def y_padding(tags):\n",
    "        ids = list(tag2id[tags])\n",
    "        if len(ids) >= max_len:\n",
    "            return ids[:max_len]\n",
    "        ids.extend([0]*(max_len-len(ids)))\n",
    "        return ids\n",
    "    df_data = pd.DataFrame(\n",
    "        {'words': datas, 'tags': labels}, index=range(len(datas)))\n",
    "    df_data['x'] = df_data['words'].apply(X_padding)\n",
    "    df_data['y'] = df_data['tags'].apply(y_padding)\n",
    "    x = np.asarray(list(df_data['x'].values))\n",
    "    y = np.asarray(list(df_data['y'].values))\n",
    "\n",
    "    from sklearn.model_selection import train_test_split\n",
    "    x_train, x_test, y_train, y_test = train_test_split(\n",
    "        x, y, test_size=0.2, random_state=43)\n",
    "    x_train, x_valid, y_train, y_valid = train_test_split(\n",
    "        x_train, y_train,  test_size=0.2, random_state=43)\n",
    "\n",
    "    import pickle\n",
    "    import os\n",
    "    with open('../Bosondata.pkl', 'wb') as outp:\n",
    "        pickle.dump(word2id, outp)\n",
    "        pickle.dump(id2word, outp)\n",
    "        pickle.dump(tag2id, outp)\n",
    "        pickle.dump(id2tag, outp)\n",
    "        pickle.dump(x_train, outp)\n",
    "        pickle.dump(y_train, outp)\n",
    "        pickle.dump(x_test, outp)\n",
    "        pickle.dump(y_test, outp)\n",
    "        pickle.dump(x_valid, outp)\n",
    "        pickle.dump(y_valid, outp)\n",
    "    print('** Finished saving the data.')"
   ]
  },
  {
   "cell_type": "code",
   "execution_count": 6,
   "metadata": {
    "ExecuteTime": {
     "end_time": "2019-05-14T07:59:53.469275Z",
     "start_time": "2019-05-14T07:59:52.138903Z"
    }
   },
   "outputs": [],
   "source": [
    "origin2tag()"
   ]
  },
  {
   "cell_type": "code",
   "execution_count": 7,
   "metadata": {
    "ExecuteTime": {
     "end_time": "2019-05-14T07:59:53.832702Z",
     "start_time": "2019-05-14T07:59:53.542347Z"
    }
   },
   "outputs": [],
   "source": [
    "tagsplit()"
   ]
  },
  {
   "cell_type": "code",
   "execution_count": 22,
   "metadata": {},
   "outputs": [
    {
     "name": "stdout",
     "output_type": "stream",
     "text": [
      "16753 {'', 'E_time', 'M_company_name', 'E_org_name', 'M_time', 'O', 'B_company_name', 'E_product_name', 'M_location', 'E_company_name', 'E_person_name', 'B_time', 'B_person_name', 'M_product_name', 'M_person_name', 'B_product_name', 'B_org_name', 'M_org_name', 'B_location', 'E_location'}\n",
      "16753\n",
      "的            1\n",
      "1            2\n",
      "0            3\n",
      "             4\n",
      "2            5\n",
      "在            6\n",
      "中            7\n",
      "国            8\n",
      "年            9\n",
      "一           10\n",
      "了           11\n",
      "日           12\n",
      "是           13\n",
      "月           14\n",
      "大           15\n",
      "为           16\n",
      "人           17\n",
      "3           18\n",
      "上           19\n",
      "有           20\n",
      "5           21\n",
      "行           22\n",
      "n           23\n",
      "市           24\n",
      "发           25\n",
      "到           26\n",
      "时           27\n",
      "来           28\n",
      "和           29\n",
      "会           30\n",
      "          ... \n",
      "萝         3406\n",
      "視         3407\n",
      "酣         3408\n",
      "朵         3409\n",
      "炒         3410\n",
      "嘟         3411\n",
      "仆         3412\n",
      "榨         3413\n",
      "掺         3414\n",
      "幂         3415\n",
      "伽         3416\n",
      "濑         3417\n",
      "慕         3418\n",
      "睛         3419\n",
      "爽         3420\n",
      "蛮         3421\n",
      "蝇         3422\n",
      "徊         3423\n",
      "咫         3424\n",
      "倚         3425\n",
      "膏         3426\n",
      "姊         3427\n",
      "厄         3428\n",
      "烹         3429\n",
      "榕         3430\n",
      "昵         3431\n",
      "呃         3432\n",
      "祚         3433\n",
      "琛         3434\n",
      "unknow    3435\n",
      "Length: 3435, dtype: int64\n",
      "** Finished saving the data.\n"
     ]
    }
   ],
   "source": [
    "data2pkl()"
   ]
  },
  {
   "cell_type": "code",
   "execution_count": 43,
   "metadata": {},
   "outputs": [],
   "source": [
    "word2id[\"unknow\"] = len(word2id)+1\n",
    "#print(word2id)\n",
    "max_len = 60\n",
    "def X_padding(words):\n",
    "    ids = list(word2id[words])\n",
    "    if len(ids) >= max_len:  \n",
    "        return ids[:max_len]\n",
    "    ids.extend([0]*(max_len-len(ids))) \n",
    "    return ids\n",
    "\n",
    "def y_padding(tags):\n",
    "    ids = list(tag2id[tags])\n",
    "    if len(ids) >= max_len: \n",
    "        return ids[:max_len]\n",
    "    ids.extend([0]*(max_len-len(ids))) \n",
    "    return ids\n",
    "df_data = pd.DataFrame({'words': datas, 'tags': labels}, index=range(len(datas)))\n",
    "df_data['x'] = df_data['words'].apply(X_padding)\n",
    "df_data['y'] = df_data['tags'].apply(y_padding)\n",
    "x = np.asarray(list(df_data['x'].values))\n",
    "y = np.asarray(list(df_data['y'].values))"
   ]
  },
  {
   "cell_type": "code",
   "execution_count": 53,
   "metadata": {},
   "outputs": [],
   "source": [
    "from sklearn.model_selection import train_test_split\n",
    "x_train,x_test, y_train, y_test = train_test_split(x, y, test_size=0.2, random_state=43)\n",
    "x_train, x_valid, y_train, y_valid = train_test_split(x_train, y_train,  test_size=0.2, random_state=43)"
   ]
  },
  {
   "cell_type": "code",
   "execution_count": 65,
   "metadata": {},
   "outputs": [],
   "source": [
    "fr = open('./test.pkl','rb') \n",
    "data1=pickle.load(fr)\n",
    "data2 = pickle.load(fr) \n",
    "data3 = pickle.load(fr) \n",
    "data4 = pickle.load(fr) \n",
    "data5 = pickle.load(fr) \n",
    "data6 = pickle.load(fr) \n",
    "data7 = pickle.load(fr) \n",
    "data8 = pickle.load(fr) \n",
    "data9 = pickle.load(fr) \n",
    "data10 = pickle.load(fr) "
   ]
  },
  {
   "cell_type": "code",
   "execution_count": null,
   "metadata": {},
   "outputs": [],
   "source": []
  }
 ],
 "metadata": {
  "kernelspec": {
   "display_name": "Python 3",
   "language": "python",
   "name": "python3"
  },
  "language_info": {
   "codemirror_mode": {
    "name": "ipython",
    "version": 3
   },
   "file_extension": ".py",
   "mimetype": "text/x-python",
   "name": "python",
   "nbconvert_exporter": "python",
   "pygments_lexer": "ipython3",
   "version": "3.6.8"
  },
  "toc": {
   "base_numbering": 1,
   "nav_menu": {},
   "number_sections": true,
   "sideBar": true,
   "skip_h1_title": false,
   "title_cell": "Table of Contents",
   "title_sidebar": "Contents",
   "toc_cell": false,
   "toc_position": {},
   "toc_section_display": true,
   "toc_window_display": false
  },
  "varInspector": {
   "cols": {
    "lenName": 16,
    "lenType": 16,
    "lenVar": 40
   },
   "kernels_config": {
    "python": {
     "delete_cmd_postfix": "",
     "delete_cmd_prefix": "del ",
     "library": "var_list.py",
     "varRefreshCmd": "print(var_dic_list())"
    },
    "r": {
     "delete_cmd_postfix": ") ",
     "delete_cmd_prefix": "rm(",
     "library": "var_list.r",
     "varRefreshCmd": "cat(var_dic_list()) "
    }
   },
   "types_to_exclude": [
    "module",
    "function",
    "builtin_function_or_method",
    "instance",
    "_Feature"
   ],
   "window_display": false
  }
 },
 "nbformat": 4,
 "nbformat_minor": 2
}
