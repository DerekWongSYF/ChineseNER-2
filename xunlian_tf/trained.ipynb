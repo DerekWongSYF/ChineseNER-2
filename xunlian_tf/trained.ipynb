{
 "cells": [
  {
   "cell_type": "code",
   "execution_count": 1,
   "metadata": {
    "ExecuteTime": {
     "end_time": "2019-05-16T12:57:28.648144Z",
     "start_time": "2019-05-16T12:57:25.870091Z"
    }
   },
   "outputs": [],
   "source": [
    "import pickle\n",
    "import pdb\n",
    "import codecs\n",
    "import re\n",
    "import sys\n",
    "import math\n",
    "\n",
    "import numpy as np\n",
    "\n",
    "import tensorflow as tf\n",
    "from Batch import BatchGenerator\n",
    "from bilstm_crf import Model\n",
    "from utils import *"
   ]
  },
  {
   "cell_type": "code",
   "execution_count": 2,
   "metadata": {
    "ExecuteTime": {
     "end_time": "2019-05-16T12:57:34.709868Z",
     "start_time": "2019-05-16T12:57:34.676443Z"
    }
   },
   "outputs": [
    {
     "name": "stdout",
     "output_type": "stream",
     "text": [
      "train len: 10721\n",
      "valid len: 2681\n",
      "test len: 3351\n",
      "word2id len 3435\n",
      "Creating the data generator ...\n"
     ]
    }
   ],
   "source": [
    "with open('../Bosondata.pkl', 'rb') as inp:\n",
    "\tword2id = pickle.load(inp)\n",
    "\tid2word = pickle.load(inp)\n",
    "\ttag2id = pickle.load(inp)\n",
    "\tid2tag = pickle.load(inp)\n",
    "\tx_train = pickle.load(inp)\n",
    "\ty_train = pickle.load(inp)\n",
    "\tx_test = pickle.load(inp)\n",
    "\ty_test = pickle.load(inp)\n",
    "\tx_valid = pickle.load(inp)\n",
    "\ty_valid = pickle.load(inp)\n",
    "print(\"train len:\",len(x_train))\n",
    "print(\"valid len:\",len(x_valid))\n",
    "print(\"test len:\",len(x_test))\n",
    "print(\"word2id len\", len(word2id))\n",
    "print('Creating the data generator ...')"
   ]
  },
  {
   "cell_type": "code",
   "execution_count": 3,
   "metadata": {
    "ExecuteTime": {
     "end_time": "2019-05-16T12:57:46.429859Z",
     "start_time": "2019-05-16T12:57:46.416895Z"
    }
   },
   "outputs": [
    {
     "name": "stdout",
     "output_type": "stream",
     "text": [
      "Finished creating the data generator.\n"
     ]
    }
   ],
   "source": [
    "data_train = BatchGenerator(x_train, y_train, shuffle=True)\n",
    "data_valid = BatchGenerator(x_valid, y_valid, shuffle=False)\n",
    "data_test = BatchGenerator(x_test, y_test, shuffle=False)\n",
    "print('Finished creating the data generator.')"
   ]
  },
  {
   "cell_type": "code",
   "execution_count": 4,
   "metadata": {
    "ExecuteTime": {
     "end_time": "2019-05-16T12:57:58.495392Z",
     "start_time": "2019-05-16T12:57:58.486418Z"
    }
   },
   "outputs": [],
   "source": [
    "epochs = 31\n",
    "batch_size = 32\n",
    "\n",
    "config = {}\n",
    "config[\"lr\"] = 0.001\n",
    "config[\"embedding_dim\"] = 100\n",
    "config[\"sen_len\"] = len(x_train[0])\n",
    "config[\"batch_size\"] = batch_size\n",
    "config[\"embedding_size\"] = len(word2id)+1\n",
    "config[\"tag_size\"] = len(tag2id)\n",
    "config[\"pretrained\"]=False"
   ]
  },
  {
   "cell_type": "code",
   "execution_count": 5,
   "metadata": {
    "ExecuteTime": {
     "end_time": "2019-05-16T12:58:06.653563Z",
     "start_time": "2019-05-16T12:58:06.649573Z"
    }
   },
   "outputs": [],
   "source": [
    "embedding_pre = []"
   ]
  },
  {
   "cell_type": "code",
   "execution_count": 6,
   "metadata": {
    "ExecuteTime": {
     "end_time": "2019-05-16T13:31:10.183229Z",
     "start_time": "2019-05-16T12:58:15.370834Z"
    }
   },
   "outputs": [
    {
     "name": "stdout",
     "output_type": "stream",
     "text": [
      "begin to train...\n",
      "WARNING:tensorflow:From D:\\Anaconda\\envs\\tfenv\\lib\\site-packages\\tensorflow\\python\\framework\\op_def_library.py:263: colocate_with (from tensorflow.python.framework.ops) is deprecated and will be removed in a future version.\n",
      "Instructions for updating:\n",
      "Colocations handled automatically by placer.\n",
      "WARNING:tensorflow:From D:\\Jupyter\\CNER\\xunlian\\bilstm_crf.py:27: calling dropout (from tensorflow.python.ops.nn_ops) with keep_prob is deprecated and will be removed in a future version.\n",
      "Instructions for updating:\n",
      "Please use `rate` instead of `keep_prob`. Rate should be set to `rate = 1 - keep_prob`.\n",
      "WARNING:tensorflow:From D:\\Jupyter\\CNER\\xunlian\\bilstm_crf.py:29: LSTMCell.__init__ (from tensorflow.python.ops.rnn_cell_impl) is deprecated and will be removed in a future version.\n",
      "Instructions for updating:\n",
      "This class is equivalent as tf.keras.layers.LSTMCell, and will be replaced by that in Tensorflow 2.0.\n",
      "WARNING:tensorflow:From D:\\Jupyter\\CNER\\xunlian\\bilstm_crf.py:36: bidirectional_dynamic_rnn (from tensorflow.python.ops.rnn) is deprecated and will be removed in a future version.\n",
      "Instructions for updating:\n",
      "Please use `keras.layers.Bidirectional(keras.layers.RNN(cell))`, which is equivalent to this API\n",
      "WARNING:tensorflow:From D:\\Anaconda\\envs\\tfenv\\lib\\site-packages\\tensorflow\\python\\ops\\rnn.py:443: dynamic_rnn (from tensorflow.python.ops.rnn) is deprecated and will be removed in a future version.\n",
      "Instructions for updating:\n",
      "Please use `keras.layers.RNN(cell)`, which is equivalent to this API\n",
      "\n",
      "WARNING: The TensorFlow contrib module will not be included in TensorFlow 2.0.\n",
      "For more information, please see:\n",
      "  * https://github.com/tensorflow/community/blob/master/rfcs/20180907-contrib-sunset.md\n",
      "  * https://github.com/tensorflow/addons\n",
      "If you depend on functionality not listed there, please file an issue.\n",
      "\n",
      "WARNING:tensorflow:From D:\\Anaconda\\envs\\tfenv\\lib\\site-packages\\tensorflow\\python\\ops\\rnn.py:626: to_int32 (from tensorflow.python.ops.math_ops) is deprecated and will be removed in a future version.\n",
      "Instructions for updating:\n",
      "Use tf.cast instead.\n",
      "0.359375\n",
      "0.8567708333333334\n",
      "./model/model0.ckpt\n",
      "model has been saved\n",
      "zhun: 0\n",
      "zhun: 0\n",
      "0.9140625\n",
      "0.91875\n",
      "./model/model1.ckpt\n",
      "0.9052083333333333\n",
      "0.9291666666666667\n",
      "./model/model2.ckpt\n",
      "0.8828125\n",
      "0.9166666666666666\n",
      "./model/model3.ckpt\n",
      "model has been saved\n",
      "zhun: 0\n",
      "zhun: 0\n",
      "0.9067708333333333\n",
      "0.9067708333333333\n",
      "./model/model4.ckpt\n",
      "0.9041666666666667\n",
      "0.9104166666666667\n",
      "./model/model5.ckpt\n",
      "0.9119791666666667\n",
      "0.90625\n",
      "./model/model6.ckpt\n",
      "model has been saved\n",
      "train\n",
      "zhun: 0.3628257887517147\n",
      "zhao: 0.03600353910025182\n",
      "f: 0.06550677976595876\n",
      "test\n",
      "zhun: 0.28\n",
      "zhao: 0.03048780487804878\n",
      "f: 0.05498821681068342\n",
      "0.9171875\n",
      "0.9166666666666666\n",
      "./model/model7.ckpt\n",
      "0.9260416666666667\n",
      "0.9302083333333333\n",
      "./model/model8.ckpt\n",
      "0.9265625\n",
      "0.9291666666666667\n",
      "./model/model9.ckpt\n",
      "model has been saved\n",
      "train\n",
      "zhun: 0.5564622584903396\n",
      "zhao: 0.31559245899407884\n",
      "f: 0.40276209502301746\n",
      "test\n",
      "zhun: 0.5052920423363387\n",
      "zhao: 0.280705574912892\n",
      "f: 0.36091278174436514\n",
      "0.95\n",
      "0.9083333333333333\n",
      "./model/model10.ckpt\n",
      "0.9447916666666667\n",
      "0.9578125\n",
      "./model/model11.ckpt\n",
      "0.9666666666666667\n",
      "0.9380208333333333\n",
      "./model/model12.ckpt\n",
      "model has been saved\n",
      "train\n",
      "zhun: 0.6527711532958123\n",
      "zhao: 0.4657319812155448\n",
      "f: 0.5436129647283127\n",
      "test\n",
      "zhun: 0.5847323408299018\n",
      "zhao: 0.4020034843205575\n",
      "f: 0.47644857400954965\n",
      "0.9635416666666666\n",
      "0.965625\n",
      "./model/model13.ckpt\n",
      "0.9729166666666667\n",
      "0.9619791666666667\n",
      "./model/model14.ckpt\n",
      "0.9739583333333334\n",
      "0.9744791666666667\n",
      "./model/model15.ckpt\n",
      "WARNING:tensorflow:From D:\\Anaconda\\envs\\tfenv\\lib\\site-packages\\tensorflow\\python\\training\\saver.py:966: remove_checkpoint (from tensorflow.python.training.checkpoint_management) is deprecated and will be removed in a future version.\n",
      "Instructions for updating:\n",
      "Use standard file APIs to delete files with this prefix.\n",
      "model has been saved\n",
      "train\n",
      "zhun: 0.6942951274492803\n",
      "zhao: 0.5450585352572829\n",
      "f: 0.6106916800122015\n",
      "test\n",
      "zhun: 0.6241094328868624\n",
      "zhao: 0.4769163763066202\n",
      "f: 0.5406739908653252\n",
      "0.959375\n",
      "0.9692708333333333\n",
      "./model/model16.ckpt\n",
      "0.9578125\n",
      "0.9515625\n",
      "./model/model17.ckpt\n",
      "0.9578125\n",
      "0.9635416666666666\n",
      "./model/model18.ckpt\n",
      "model has been saved\n",
      "train\n",
      "zhun: 0.7262254901960784\n",
      "zhao: 0.6049819642006398\n",
      "f: 0.6600824267627075\n",
      "test\n",
      "zhun: 0.643702906350915\n",
      "zhao: 0.5209059233449478\n",
      "f: 0.575830524795378\n",
      "0.9640625\n",
      "0.9505208333333334\n",
      "./model/model19.ckpt\n",
      "0.9666666666666667\n",
      "0.971875\n",
      "./model/model20.ckpt\n",
      "0.9692708333333333\n",
      "0.9708333333333333\n",
      "./model/model21.ckpt\n",
      "model has been saved\n",
      "train\n",
      "zhun: 0.7596772879145954\n",
      "zhao: 0.634451779759069\n",
      "f: 0.6914404391039906\n",
      "test\n",
      "zhun: 0.6619794483504597\n",
      "zhao: 0.5331010452961672\n",
      "f: 0.5905910735826296\n",
      "0.9755208333333333\n",
      "0.9760416666666667\n",
      "./model/model22.ckpt\n",
      "0.9734375\n",
      "0.9671875\n",
      "./model/model23.ckpt\n",
      "0.9776041666666667\n",
      "0.9807291666666667\n",
      "./model/model24.ckpt\n",
      "model has been saved\n",
      "train\n",
      "zhun: 0.78232\n",
      "zhao: 0.6655550262029538\n",
      "f: 0.7192292134005074\n",
      "test\n",
      "zhun: 0.687566988210075\n",
      "zhao: 0.5587979094076655\n",
      "f: 0.616530514175877\n",
      "0.9734375\n",
      "0.9677083333333333\n",
      "./model/model25.ckpt\n",
      "0.98125\n",
      "0.9802083333333333\n",
      "./model/model26.ckpt\n",
      "0.971875\n",
      "0.96875\n",
      "./model/model27.ckpt\n",
      "model has been saved\n",
      "train\n",
      "zhun: 0.794255752073877\n",
      "zhao: 0.6908311210945477\n",
      "f: 0.738942080163093\n",
      "test\n",
      "zhun: 0.6793873312564901\n",
      "zhao: 0.569904181184669\n",
      "f: 0.6198484130743722\n",
      "0.9760416666666667\n",
      "0.9802083333333333\n",
      "./model/model28.ckpt\n",
      "0.9791666666666666\n",
      "0.9692708333333333\n",
      "./model/model29.ckpt\n",
      "0.9838541666666667\n",
      "0.9807291666666667\n",
      "./model/model30.ckpt\n",
      "model has been saved\n",
      "train\n",
      "zhun: 0.7996785058175138\n",
      "zhao: 0.711018852514803\n",
      "f: 0.7527470547969882\n",
      "test\n",
      "zhun: 0.6787894201424212\n",
      "zhao: 0.5812282229965157\n",
      "f: 0.6262318160488034\n"
     ]
    }
   ],
   "source": [
    "print(\"begin to train...\")\n",
    "model = Model(config,embedding_pre,dropout_keep=0.5)\n",
    "with tf.Session() as sess:\n",
    "    sess.run(tf.global_variables_initializer())\n",
    "    saver = tf.train.Saver()  \n",
    "    train(model,sess,saver,epochs,batch_size,data_train,data_test,id2word,id2tag)"
   ]
  },
  {
   "cell_type": "code",
   "execution_count": null,
   "metadata": {},
   "outputs": [],
   "source": []
  }
 ],
 "metadata": {
  "kernelspec": {
   "display_name": "Python 3",
   "language": "python",
   "name": "python3"
  },
  "language_info": {
   "codemirror_mode": {
    "name": "ipython",
    "version": 3
   },
   "file_extension": ".py",
   "mimetype": "text/x-python",
   "name": "python",
   "nbconvert_exporter": "python",
   "pygments_lexer": "ipython3",
   "version": "3.6.8"
  },
  "toc": {
   "base_numbering": 1,
   "nav_menu": {},
   "number_sections": true,
   "sideBar": true,
   "skip_h1_title": false,
   "title_cell": "Table of Contents",
   "title_sidebar": "Contents",
   "toc_cell": false,
   "toc_position": {},
   "toc_section_display": true,
   "toc_window_display": false
  },
  "varInspector": {
   "cols": {
    "lenName": 16,
    "lenType": 16,
    "lenVar": 40
   },
   "kernels_config": {
    "python": {
     "delete_cmd_postfix": "",
     "delete_cmd_prefix": "del ",
     "library": "var_list.py",
     "varRefreshCmd": "print(var_dic_list())"
    },
    "r": {
     "delete_cmd_postfix": ") ",
     "delete_cmd_prefix": "rm(",
     "library": "var_list.r",
     "varRefreshCmd": "cat(var_dic_list()) "
    }
   },
   "types_to_exclude": [
    "module",
    "function",
    "builtin_function_or_method",
    "instance",
    "_Feature"
   ],
   "window_display": false
  }
 },
 "nbformat": 4,
 "nbformat_minor": 2
}
