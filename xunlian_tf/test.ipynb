{
 "cells": [
  {
   "cell_type": "code",
   "execution_count": 1,
   "metadata": {
    "ExecuteTime": {
     "end_time": "2019-05-16T13:57:33.887417Z",
     "start_time": "2019-05-16T13:57:30.535759Z"
    }
   },
   "outputs": [],
   "source": [
    "import pickle\n",
    "import pdb\n",
    "import codecs\n",
    "import re\n",
    "import sys\n",
    "import math\n",
    "\n",
    "import numpy as np\n",
    "\n",
    "import tensorflow as tf\n",
    "from Batch import BatchGenerator\n",
    "from bilstm_crf import Model\n",
    "from utils import *"
   ]
  },
  {
   "cell_type": "code",
   "execution_count": 2,
   "metadata": {
    "ExecuteTime": {
     "end_time": "2019-05-16T13:57:33.947259Z",
     "start_time": "2019-05-16T13:57:33.891406Z"
    }
   },
   "outputs": [
    {
     "name": "stdout",
     "output_type": "stream",
     "text": [
      "train len: 10721\n",
      "valid len: 2681\n",
      "test len: 3351\n",
      "word2id len 3435\n",
      "Creating the data generator ...\n"
     ]
    }
   ],
   "source": [
    "with open('../Bosondata.pkl', 'rb') as inp:\n",
    "\tword2id = pickle.load(inp)\n",
    "\tid2word = pickle.load(inp)\n",
    "\ttag2id = pickle.load(inp)\n",
    "\tid2tag = pickle.load(inp)\n",
    "\tx_train = pickle.load(inp)\n",
    "\ty_train = pickle.load(inp)\n",
    "\tx_test = pickle.load(inp)\n",
    "\ty_test = pickle.load(inp)\n",
    "\tx_valid = pickle.load(inp)\n",
    "\ty_valid = pickle.load(inp)\n",
    "print(\"train len:\",len(x_train))\n",
    "print(\"valid len:\",len(x_valid))\n",
    "print(\"test len:\",len(x_test))\n",
    "print(\"word2id len\", len(word2id))\n",
    "print('Creating the data generator ...')"
   ]
  },
  {
   "cell_type": "code",
   "execution_count": null,
   "metadata": {
    "ExecuteTime": {
     "start_time": "2019-05-16T13:57:30.123Z"
    }
   },
   "outputs": [
    {
     "name": "stdout",
     "output_type": "stream",
     "text": [
      "Finished creating the data generator.\n"
     ]
    }
   ],
   "source": [
    "data_train = BatchGenerator(x_train, y_train, shuffle=True)\n",
    "data_valid = BatchGenerator(x_valid, y_valid, shuffle=False)\n",
    "data_test = BatchGenerator(x_test, y_test, shuffle=False)\n",
    "print('Finished creating the data generator.')"
   ]
  },
  {
   "cell_type": "code",
   "execution_count": null,
   "metadata": {
    "ExecuteTime": {
     "start_time": "2019-05-16T13:57:30.132Z"
    }
   },
   "outputs": [],
   "source": [
    "epochs = 31\n",
    "batch_size = 32\n",
    "\n",
    "config = {}\n",
    "config[\"lr\"] = 0.001\n",
    "config[\"embedding_dim\"] = 100 # 词向量的维度\n",
    "config[\"sen_len\"] = len(x_train[0]) # 句子长度\n",
    "config[\"batch_size\"] = batch_size # 批次大小\n",
    "config[\"embedding_size\"] = len(word2id)+1 # 有多少个词向量\n",
    "config[\"tag_size\"] = len(tag2id) # 有多少个标签\n",
    "config[\"pretrained\"]=False # 预训练"
   ]
  },
  {
   "cell_type": "code",
   "execution_count": null,
   "metadata": {
    "ExecuteTime": {
     "start_time": "2019-05-16T13:57:30.138Z"
    }
   },
   "outputs": [],
   "source": [
    "embedding_pre = []"
   ]
  },
  {
   "cell_type": "code",
   "execution_count": null,
   "metadata": {
    "ExecuteTime": {
     "start_time": "2019-05-16T13:57:30.144Z"
    }
   },
   "outputs": [
    {
     "name": "stdout",
     "output_type": "stream",
     "text": [
      "begin to test...\n",
      "WARNING:tensorflow:From D:\\Anaconda\\envs\\tfenv\\lib\\site-packages\\tensorflow\\python\\framework\\op_def_library.py:263: colocate_with (from tensorflow.python.framework.ops) is deprecated and will be removed in a future version.\n",
      "Instructions for updating:\n",
      "Colocations handled automatically by placer.\n",
      "WARNING:tensorflow:From D:\\Jupyter\\CNER\\xunlian\\bilstm_crf.py:27: calling dropout (from tensorflow.python.ops.nn_ops) with keep_prob is deprecated and will be removed in a future version.\n",
      "Instructions for updating:\n",
      "Please use `rate` instead of `keep_prob`. Rate should be set to `rate = 1 - keep_prob`.\n",
      "WARNING:tensorflow:From D:\\Jupyter\\CNER\\xunlian\\bilstm_crf.py:29: LSTMCell.__init__ (from tensorflow.python.ops.rnn_cell_impl) is deprecated and will be removed in a future version.\n",
      "Instructions for updating:\n",
      "This class is equivalent as tf.keras.layers.LSTMCell, and will be replaced by that in Tensorflow 2.0.\n",
      "WARNING:tensorflow:From D:\\Jupyter\\CNER\\xunlian\\bilstm_crf.py:36: bidirectional_dynamic_rnn (from tensorflow.python.ops.rnn) is deprecated and will be removed in a future version.\n",
      "Instructions for updating:\n",
      "Please use `keras.layers.Bidirectional(keras.layers.RNN(cell))`, which is equivalent to this API\n",
      "WARNING:tensorflow:From D:\\Anaconda\\envs\\tfenv\\lib\\site-packages\\tensorflow\\python\\ops\\rnn.py:443: dynamic_rnn (from tensorflow.python.ops.rnn) is deprecated and will be removed in a future version.\n",
      "Instructions for updating:\n",
      "Please use `keras.layers.RNN(cell)`, which is equivalent to this API\n",
      "\n",
      "WARNING: The TensorFlow contrib module will not be included in TensorFlow 2.0.\n",
      "For more information, please see:\n",
      "  * https://github.com/tensorflow/community/blob/master/rfcs/20180907-contrib-sunset.md\n",
      "  * https://github.com/tensorflow/addons\n",
      "If you depend on functionality not listed there, please file an issue.\n",
      "\n",
      "WARNING:tensorflow:From D:\\Anaconda\\envs\\tfenv\\lib\\site-packages\\tensorflow\\python\\ops\\rnn.py:626: to_int32 (from tensorflow.python.ops.math_ops) is deprecated and will be removed in a future version.\n",
      "Instructions for updating:\n",
      "Use tf.cast instead.\n",
      "loading pre-trained model from ./model\\model30.ckpt.....\n",
      "WARNING:tensorflow:From D:\\Anaconda\\envs\\tfenv\\lib\\site-packages\\tensorflow\\python\\training\\saver.py:1266: checkpoint_exists (from tensorflow.python.training.checkpoint_management) is deprecated and will be removed in a future version.\n",
      "Instructions for updating:\n",
      "Use standard file APIs to check for files with this prefix.\n",
      "INFO:tensorflow:Restoring parameters from ./model\\model30.ckpt\n",
      "Enter your input: 在华盛顿期间，我同克林顿总统就双边关系以及共同关心的国际和地区问题交换了意见，取得了积极的、建设性的成果\n",
      "result:\n",
      "_company_name:华盛顿\n",
      "_person_name:克林顿\n",
      "Enter your input: 我在即将结束对美国国事访问之际，来到美国西海岸第一大城市洛杉矶游玩，感到由衷的开心。\n",
      "result:\n",
      "_location:美国\n",
      "_location:美国西海岸第一大城市洛杉矶\n",
      "Enter your input: 我要感谢洛杉矶市民议政论坛、亚洲歇会南加中心、美中关系全国委员会的盛情款待。\n",
      "result:\n",
      "_org_name:洛杉矶市民议政论坛\n",
      "_location:亚洲歇会南加中心\n",
      "_org_name:美中关系全国委员会\n"
     ]
    }
   ],
   "source": [
    "print(\"begin to test...\")\n",
    "model = Model(config,embedding_pre,dropout_keep=1)\n",
    "with tf.Session() as sess:\n",
    "    sess.run(tf.global_variables_initializer())\n",
    "    saver = tf.train.Saver()  \n",
    "    ckpt = tf.train.get_checkpoint_state('./model')\n",
    "    if ckpt is None:\n",
    "        print('Model not found, please train your model first')\n",
    "    else:    \n",
    "        path = ckpt.model_checkpoint_path\n",
    "        print('loading pre-trained model from %s.....' % path)\n",
    "        saver.restore(sess, path)\n",
    "        test_input(model,sess,word2id,id2tag,batch_size)"
   ]
  },
  {
   "cell_type": "code",
   "execution_count": null,
   "metadata": {},
   "outputs": [],
   "source": []
  }
 ],
 "metadata": {
  "kernelspec": {
   "display_name": "Python 3",
   "language": "python",
   "name": "python3"
  },
  "language_info": {
   "codemirror_mode": {
    "name": "ipython",
    "version": 3
   },
   "file_extension": ".py",
   "mimetype": "text/x-python",
   "name": "python",
   "nbconvert_exporter": "python",
   "pygments_lexer": "ipython3",
   "version": "3.6.8"
  },
  "toc": {
   "base_numbering": 1,
   "nav_menu": {},
   "number_sections": true,
   "sideBar": true,
   "skip_h1_title": false,
   "title_cell": "Table of Contents",
   "title_sidebar": "Contents",
   "toc_cell": false,
   "toc_position": {},
   "toc_section_display": true,
   "toc_window_display": false
  },
  "varInspector": {
   "cols": {
    "lenName": 16,
    "lenType": 16,
    "lenVar": 40
   },
   "kernels_config": {
    "python": {
     "delete_cmd_postfix": "",
     "delete_cmd_prefix": "del ",
     "library": "var_list.py",
     "varRefreshCmd": "print(var_dic_list())"
    },
    "r": {
     "delete_cmd_postfix": ") ",
     "delete_cmd_prefix": "rm(",
     "library": "var_list.r",
     "varRefreshCmd": "cat(var_dic_list()) "
    }
   },
   "types_to_exclude": [
    "module",
    "function",
    "builtin_function_or_method",
    "instance",
    "_Feature"
   ],
   "window_display": false
  }
 },
 "nbformat": 4,
 "nbformat_minor": 2
}
