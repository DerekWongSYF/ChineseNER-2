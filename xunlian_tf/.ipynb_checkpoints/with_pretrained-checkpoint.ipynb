{
 "cells": [
  {
   "cell_type": "code",
   "execution_count": 9,
   "metadata": {
    "ExecuteTime": {
     "end_time": "2019-05-16T13:44:49.501882Z",
     "start_time": "2019-05-16T13:44:49.494901Z"
    }
   },
   "outputs": [],
   "source": [
    "import pickle\n",
    "import pdb\n",
    "import codecs\n",
    "import re\n",
    "import sys\n",
    "import math\n",
    "\n",
    "import numpy as np\n",
    "\n",
    "import tensorflow as tf\n",
    "from Batch import BatchGenerator\n",
    "from bilstm_crf import Model\n",
    "from utils import *"
   ]
  },
  {
   "cell_type": "code",
   "execution_count": 10,
   "metadata": {
    "ExecuteTime": {
     "end_time": "2019-05-16T13:45:00.552450Z",
     "start_time": "2019-05-16T13:45:00.524528Z"
    }
   },
   "outputs": [
    {
     "name": "stdout",
     "output_type": "stream",
     "text": [
      "train len: 10721\n",
      "valid len: 2681\n",
      "test len: 3351\n",
      "word2id len 3435\n",
      "Creating the data generator ...\n"
     ]
    }
   ],
   "source": [
    "with open('../Bosondata.pkl', 'rb') as inp:\n",
    "\tword2id = pickle.load(inp)\n",
    "\tid2word = pickle.load(inp)\n",
    "\ttag2id = pickle.load(inp)\n",
    "\tid2tag = pickle.load(inp)\n",
    "\tx_train = pickle.load(inp)\n",
    "\ty_train = pickle.load(inp)\n",
    "\tx_test = pickle.load(inp)\n",
    "\ty_test = pickle.load(inp)\n",
    "\tx_valid = pickle.load(inp)\n",
    "\ty_valid = pickle.load(inp)\n",
    "print(\"train len:\",len(x_train))\n",
    "print(\"valid len:\",len(x_valid))\n",
    "print(\"test len:\",len(x_test))\n",
    "print(\"word2id len\", len(word2id))\n",
    "print('Creating the data generator ...')"
   ]
  },
  {
   "cell_type": "code",
   "execution_count": 11,
   "metadata": {
    "ExecuteTime": {
     "end_time": "2019-05-16T13:45:11.690511Z",
     "start_time": "2019-05-16T13:45:11.677543Z"
    }
   },
   "outputs": [
    {
     "name": "stdout",
     "output_type": "stream",
     "text": [
      "Finished creating the data generator.\n"
     ]
    }
   ],
   "source": [
    "data_train = BatchGenerator(x_train, y_train, shuffle=True)\n",
    "data_valid = BatchGenerator(x_valid, y_valid, shuffle=False)\n",
    "data_test = BatchGenerator(x_test, y_test, shuffle=False)\n",
    "print('Finished creating the data generator.')"
   ]
  },
  {
   "cell_type": "code",
   "execution_count": 12,
   "metadata": {
    "ExecuteTime": {
     "end_time": "2019-05-16T13:45:29.599577Z",
     "start_time": "2019-05-16T13:45:29.590603Z"
    }
   },
   "outputs": [
    {
     "data": {
      "text/plain": [
       "(10721, 60)"
      ]
     },
     "execution_count": 12,
     "metadata": {},
     "output_type": "execute_result"
    }
   ],
   "source": [
    "data_train.x.shape"
   ]
  },
  {
   "cell_type": "code",
   "execution_count": 13,
   "metadata": {
    "ExecuteTime": {
     "end_time": "2019-05-16T13:45:38.719487Z",
     "start_time": "2019-05-16T13:45:38.709514Z"
    }
   },
   "outputs": [],
   "source": [
    "epochs = 31\n",
    "batch_size = 32\n",
    "\n",
    "config = {}\n",
    "config[\"lr\"] = 0.001\n",
    "config[\"embedding_dim\"] = 100 # 词向量的维度\n",
    "config[\"sen_len\"] = len(x_train[0]) # 句子长度\n",
    "config[\"batch_size\"] = batch_size # 批次大小\n",
    "config[\"embedding_size\"] = len(word2id)+1 # 有多少个词向量\n",
    "config[\"tag_size\"] = len(tag2id) # 有多少个标签\n",
    "config[\"pretrained\"]=False # 预训练"
   ]
  },
  {
   "cell_type": "code",
   "execution_count": 14,
   "metadata": {
    "ExecuteTime": {
     "end_time": "2019-05-16T13:46:03.938467Z",
     "start_time": "2019-05-16T13:45:52.572197Z"
    }
   },
   "outputs": [
    {
     "name": "stdout",
     "output_type": "stream",
     "text": [
      "use pretrained embedding\n"
     ]
    }
   ],
   "source": [
    "embedding_pre = []\n",
    "\n",
    "print(\"use pretrained embedding\")\n",
    "config[\"pretrained\"]=True\n",
    "word2vec = {}\n",
    "with codecs.open('vec.txt','r','utf-8') as input_data:   \n",
    "    for line in input_data.readlines():\n",
    "        word2vec[line.split()[0]] = list(map(eval,line.split()[1:]))\n",
    "\n",
    "unknow_pre = []\n",
    "unknow_pre.extend([1]*100)\n",
    "embedding_pre.append(unknow_pre) #wordvec id 0\n",
    "for word in id2word:\n",
    "    if word in word2vec:\n",
    "        embedding_pre.append(word2vec[word])\n",
    "    else:\n",
    "        embedding_pre.append(unknow_pre)\n",
    "\n",
    "embedding_pre = np.asarray(embedding_pre)"
   ]
  },
  {
   "cell_type": "code",
   "execution_count": 15,
   "metadata": {
    "ExecuteTime": {
     "end_time": "2019-05-16T13:46:06.676748Z",
     "start_time": "2019-05-16T13:46:06.668769Z"
    }
   },
   "outputs": [
    {
     "data": {
      "text/plain": [
       "array([[ 1.      ,  1.      ,  1.      , ...,  1.      ,  1.      ,\n",
       "         1.      ],\n",
       "       [ 0.087197, -0.083435,  0.057956, ...,  0.045114, -0.08465 ,\n",
       "         0.111534],\n",
       "       [ 0.084424, -0.118023,  0.135428, ...,  0.273897,  0.150512,\n",
       "        -0.172031],\n",
       "       ...,\n",
       "       [ 0.163283,  0.341556,  0.380325, ..., -0.099092,  0.167281,\n",
       "        -0.46092 ],\n",
       "       [-0.233846, -0.435442,  0.366504, ..., -0.282544, -0.129922,\n",
       "         0.357925],\n",
       "       [-0.578525, -0.012686, -0.060288, ...,  0.013066, -0.469461,\n",
       "        -0.127309]])"
      ]
     },
     "execution_count": 15,
     "metadata": {},
     "output_type": "execute_result"
    }
   ],
   "source": [
    "embedding_pre"
   ]
  },
  {
   "cell_type": "code",
   "execution_count": null,
   "metadata": {},
   "outputs": [],
   "source": []
  }
 ],
 "metadata": {
  "kernelspec": {
   "display_name": "Python 3",
   "language": "python",
   "name": "python3"
  },
  "language_info": {
   "codemirror_mode": {
    "name": "ipython",
    "version": 3
   },
   "file_extension": ".py",
   "mimetype": "text/x-python",
   "name": "python",
   "nbconvert_exporter": "python",
   "pygments_lexer": "ipython3",
   "version": "3.6.8"
  },
  "toc": {
   "base_numbering": 1,
   "nav_menu": {},
   "number_sections": true,
   "sideBar": true,
   "skip_h1_title": false,
   "title_cell": "Table of Contents",
   "title_sidebar": "Contents",
   "toc_cell": false,
   "toc_position": {},
   "toc_section_display": true,
   "toc_window_display": false
  },
  "varInspector": {
   "cols": {
    "lenName": 16,
    "lenType": 16,
    "lenVar": 40
   },
   "kernels_config": {
    "python": {
     "delete_cmd_postfix": "",
     "delete_cmd_prefix": "del ",
     "library": "var_list.py",
     "varRefreshCmd": "print(var_dic_list())"
    },
    "r": {
     "delete_cmd_postfix": ") ",
     "delete_cmd_prefix": "rm(",
     "library": "var_list.r",
     "varRefreshCmd": "cat(var_dic_list()) "
    }
   },
   "types_to_exclude": [
    "module",
    "function",
    "builtin_function_or_method",
    "instance",
    "_Feature"
   ],
   "window_display": false
  }
 },
 "nbformat": 4,
 "nbformat_minor": 2
}
