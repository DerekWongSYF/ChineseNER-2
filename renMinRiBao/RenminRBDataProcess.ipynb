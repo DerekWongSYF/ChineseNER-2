{
 "cells": [
  {
   "cell_type": "code",
   "execution_count": 1,
   "metadata": {
    "ExecuteTime": {
     "end_time": "2019-05-16T13:26:59.771322Z",
     "start_time": "2019-05-16T13:26:54.078468Z"
    }
   },
   "outputs": [],
   "source": [
    "import codecs\n",
    "import re\n",
    "import pdb\n",
    "import pandas as pd\n",
    "import numpy as np\n",
    "import collections"
   ]
  },
  {
   "cell_type": "code",
   "execution_count": 7,
   "metadata": {
    "ExecuteTime": {
     "end_time": "2019-05-16T13:32:40.710708Z",
     "start_time": "2019-05-16T13:32:40.692757Z"
    }
   },
   "outputs": [],
   "source": [
    "def originHandle():\n",
    "    with open('./renmin.txt', 'r',encoding='utf-8') as inp, open('./renmin2.txt', 'w',encoding='utf-8') as outp:\n",
    "        for line in inp.readlines():\n",
    "            line = line.split('  ')\n",
    "            i = 1\n",
    "            while i < len(line)-1:\n",
    "                if line[i][0] == '[':\n",
    "                    outp.write(line[i].split('/')[0][1:])\n",
    "                    i += 1\n",
    "                    while i < len(line)-1 and line[i].find(']') == -1:\n",
    "                        if line[i] != '':\n",
    "                            outp.write(line[i].split('/')[0])\n",
    "                        i += 1\n",
    "                    outp.write(line[i].split('/')[0].strip() +\n",
    "                               '/'+line[i].split('/')[1][-2:]+' ')\n",
    "                elif line[i].split('/')[1] == 'nr':\n",
    "                    word = line[i].split('/')[0]\n",
    "                    i += 1\n",
    "                    if i < len(line)-1 and line[i].split('/')[1] == 'nr':\n",
    "                        outp.write(word+line[i].split('/')[0]+'/nr ')\n",
    "                    else:\n",
    "                        outp.write(word+'/nr ')\n",
    "                        continue\n",
    "                else:\n",
    "                    outp.write(line[i]+' ')\n",
    "                i += 1\n",
    "            outp.write('\\n')"
   ]
  },
  {
   "cell_type": "code",
   "execution_count": 3,
   "metadata": {
    "ExecuteTime": {
     "end_time": "2019-05-16T13:27:20.929997Z",
     "start_time": "2019-05-16T13:27:20.917032Z"
    }
   },
   "outputs": [],
   "source": [
    "def originHandle2():\n",
    "    with codecs.open('./renmin2.txt', 'r', 'utf-8') as inp, codecs.open('./renmin3.txt', 'w', 'utf-8') as outp:\n",
    "        for line in inp.readlines():\n",
    "            line = line.split(' ')\n",
    "            i = 0\n",
    "            while i < len(line)-1:\n",
    "                if line[i] == '':\n",
    "                    i += 1\n",
    "                    continue\n",
    "                word = line[i].split('/')[0]\n",
    "                tag = line[i].split('/')[1]\n",
    "                if tag == 'nr' or tag == 'ns' or tag == 'nt':\n",
    "                    outp.write(word[0]+\"/B_\"+tag+\" \")\n",
    "                    for j in word[1:len(word)-1]:\n",
    "                        if j != ' ':\n",
    "                            outp.write(j+\"/M_\"+tag+\" \")\n",
    "                    outp.write(word[-1]+\"/E_\"+tag+\" \")\n",
    "                else:\n",
    "                    for wor in word:\n",
    "                        outp.write(wor+'/O ')\n",
    "                i += 1\n",
    "            outp.write('\\n')"
   ]
  },
  {
   "cell_type": "code",
   "execution_count": 19,
   "metadata": {
    "ExecuteTime": {
     "end_time": "2019-05-16T13:35:31.433207Z",
     "start_time": "2019-05-16T13:35:31.427223Z"
    }
   },
   "outputs": [],
   "source": [
    "def sentence2split():\n",
    "    with open('./renmin3.txt', 'r', encoding='utf-8') as inp, codecs.open('./renmin4.txt', 'w', 'utf-8') as outp:\n",
    "        texts = inp.read()\n",
    "        sentences = re.split('[，。！？、‘’“”:]/[O]', texts)\n",
    "        for sentence in sentences:\n",
    "            if sentence != \" \":\n",
    "                outp.write(sentence.strip()+'\\n')"
   ]
  },
  {
   "cell_type": "code",
   "execution_count": 22,
   "metadata": {
    "ExecuteTime": {
     "end_time": "2019-05-16T13:37:24.939091Z",
     "start_time": "2019-05-16T13:37:24.933105Z"
    }
   },
   "outputs": [],
   "source": [
    "def flatten(x):\n",
    "    result = []\n",
    "    for el in x:\n",
    "        if isinstance(x, collections.Iterable) and not isinstance(el, str):\n",
    "            result.extend(flatten(el))\n",
    "        else:\n",
    "            result.append(el)\n",
    "    return result\n"
   ]
  },
  {
   "cell_type": "code",
   "execution_count": 23,
   "metadata": {
    "ExecuteTime": {
     "end_time": "2019-05-16T13:37:27.044372Z",
     "start_time": "2019-05-16T13:37:27.013454Z"
    }
   },
   "outputs": [],
   "source": [
    "def data2pkl():\n",
    "    datas = list()\n",
    "    labels = list()\n",
    "    linedata = list()\n",
    "    linelabel = list()\n",
    "    tags = set()\n",
    "    tags.add('')\n",
    "    input_data = codecs.open('renmin4.txt', 'r', 'utf-8')\n",
    "    for line in input_data.readlines():\n",
    "        line = line.split()\n",
    "        linedata = []\n",
    "        linelabel = []\n",
    "        numNotO = 0\n",
    "        for word in line:\n",
    "            word = word.split('/')\n",
    "            linedata.append(word[0])\n",
    "            linelabel.append(word[1])\n",
    "            tags.add(word[1])\n",
    "            if word[1] != 'O':\n",
    "                numNotO += 1\n",
    "        if numNotO != 0:\n",
    "            datas.append(linedata)\n",
    "            labels.append(linelabel)\n",
    "\n",
    "    input_data.close()\n",
    "    print(len(datas))\n",
    "    print(len(labels))\n",
    "    \n",
    "    all_words = flatten(datas)\n",
    "    sr_allwords = pd.Series(all_words)\n",
    "    sr_allwords = sr_allwords.value_counts()\n",
    "    set_words = sr_allwords.index\n",
    "    set_ids = list(range(1, len(set_words)+1))\n",
    "\n",
    "    tags = [i for i in tags]\n",
    "    tag_ids = list(range(len(tags)))\n",
    "    word2id = pd.Series(set_ids, index=set_words)\n",
    "    id2word = pd.Series(set_words, index=set_ids)\n",
    "    tag2id = pd.Series(tag_ids, index=tags)\n",
    "    id2tag = pd.Series(tags, index=tag_ids)\n",
    "    word2id[\"unknow\"] = len(word2id)+1\n",
    "    id2word[len(word2id)] = \"unknow\"\n",
    "    print(tag2id)\n",
    "    max_len = 60\n",
    "\n",
    "    def X_padding(words):\n",
    "        ids = list(word2id[words])\n",
    "        if len(ids) >= max_len:\n",
    "            return ids[:max_len]\n",
    "        ids.extend([0]*(max_len-len(ids)))\n",
    "        return ids\n",
    "\n",
    "    def y_padding(tags):\n",
    "        ids = list(tag2id[tags])\n",
    "        if len(ids) >= max_len:\n",
    "            return ids[:max_len]\n",
    "        ids.extend([0]*(max_len-len(ids)))\n",
    "        return ids\n",
    "    df_data = pd.DataFrame(\n",
    "        {'words': datas, 'tags': labels}, index=list(range(len(datas))))\n",
    "    df_data['x'] = df_data['words'].apply(X_padding)\n",
    "    df_data['y'] = df_data['tags'].apply(y_padding)\n",
    "    x = np.asarray(list(df_data['x'].values))\n",
    "    y = np.asarray(list(df_data['y'].values))\n",
    "\n",
    "    from sklearn.model_selection import train_test_split\n",
    "    x_train, x_test, y_train, y_test = train_test_split(\n",
    "        x, y, test_size=0.2, random_state=43)\n",
    "    x_train, x_valid, y_train, y_valid = train_test_split(\n",
    "        x_train, y_train,  test_size=0.2, random_state=43)\n",
    "\n",
    "    import pickle\n",
    "    import os\n",
    "    with open('../renmindata.pkl', 'wb') as outp:\n",
    "        pickle.dump(word2id, outp)\n",
    "        pickle.dump(id2word, outp)\n",
    "        pickle.dump(tag2id, outp)\n",
    "        pickle.dump(id2tag, outp)\n",
    "        pickle.dump(x_train, outp)\n",
    "        pickle.dump(y_train, outp)\n",
    "        pickle.dump(x_test, outp)\n",
    "        pickle.dump(y_test, outp)\n",
    "        pickle.dump(x_valid, outp)\n",
    "        pickle.dump(y_valid, outp)\n",
    "    print('** Finished saving the data.')"
   ]
  },
  {
   "cell_type": "code",
   "execution_count": 8,
   "metadata": {
    "ExecuteTime": {
     "end_time": "2019-05-16T13:32:47.033839Z",
     "start_time": "2019-05-16T13:32:45.572411Z"
    }
   },
   "outputs": [],
   "source": [
    "originHandle()"
   ]
  },
  {
   "cell_type": "code",
   "execution_count": 9,
   "metadata": {
    "ExecuteTime": {
     "end_time": "2019-05-16T13:33:07.308345Z",
     "start_time": "2019-05-16T13:33:03.500552Z"
    }
   },
   "outputs": [],
   "source": [
    "originHandle2()"
   ]
  },
  {
   "cell_type": "code",
   "execution_count": 20,
   "metadata": {
    "ExecuteTime": {
     "end_time": "2019-05-16T13:35:35.174935Z",
     "start_time": "2019-05-16T13:35:34.731125Z"
    }
   },
   "outputs": [],
   "source": [
    "sentence2split()"
   ]
  },
  {
   "cell_type": "code",
   "execution_count": 24,
   "metadata": {
    "ExecuteTime": {
     "end_time": "2019-05-16T13:39:20.717462Z",
     "start_time": "2019-05-16T13:37:29.990879Z"
    }
   },
   "outputs": [
    {
     "name": "stdout",
     "output_type": "stream",
     "text": [
      "37924\n",
      "37924\n",
      "         0\n",
      "O        1\n",
      "M_nr     2\n",
      "M_nt     3\n",
      "M_ns     4\n",
      "B_nt     5\n",
      "E_ns     6\n",
      "E_nt     7\n",
      "B_nr     8\n",
      "E_nr     9\n",
      "B_ns    10\n",
      "dtype: int64\n",
      "** Finished saving the data.\n"
     ]
    }
   ],
   "source": [
    "data2pkl()"
   ]
  },
  {
   "cell_type": "code",
   "execution_count": null,
   "metadata": {},
   "outputs": [],
   "source": []
  }
 ],
 "metadata": {
  "kernelspec": {
   "display_name": "Python 3",
   "language": "python",
   "name": "python3"
  },
  "language_info": {
   "codemirror_mode": {
    "name": "ipython",
    "version": 3
   },
   "file_extension": ".py",
   "mimetype": "text/x-python",
   "name": "python",
   "nbconvert_exporter": "python",
   "pygments_lexer": "ipython3",
   "version": "3.6.8"
  },
  "toc": {
   "base_numbering": 1,
   "nav_menu": {},
   "number_sections": true,
   "sideBar": true,
   "skip_h1_title": false,
   "title_cell": "Table of Contents",
   "title_sidebar": "Contents",
   "toc_cell": false,
   "toc_position": {},
   "toc_section_display": true,
   "toc_window_display": false
  },
  "varInspector": {
   "cols": {
    "lenName": 16,
    "lenType": 16,
    "lenVar": 40
   },
   "kernels_config": {
    "python": {
     "delete_cmd_postfix": "",
     "delete_cmd_prefix": "del ",
     "library": "var_list.py",
     "varRefreshCmd": "print(var_dic_list())"
    },
    "r": {
     "delete_cmd_postfix": ") ",
     "delete_cmd_prefix": "rm(",
     "library": "var_list.r",
     "varRefreshCmd": "cat(var_dic_list()) "
    }
   },
   "types_to_exclude": [
    "module",
    "function",
    "builtin_function_or_method",
    "instance",
    "_Feature"
   ],
   "window_display": false
  }
 },
 "nbformat": 4,
 "nbformat_minor": 2
}
